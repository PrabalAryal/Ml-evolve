{
 "cells": [
  {
   "cell_type": "code",
   "execution_count": 9,
   "metadata": {},
   "outputs": [],
   "source": [
    "from bs4 import BeautifulSoup"
   ]
  },
  {
   "cell_type": "code",
   "execution_count": 3,
   "metadata": {},
   "outputs": [],
   "source": [
    "import selenium\n",
    "from selenium import webdriver"
   ]
  },
  {
   "cell_type": "code",
   "execution_count": 11,
   "metadata": {},
   "outputs": [],
   "source": [
    "url='https://www.daraz.com.np/Laptops'\n",
    "driver = webdriver.Chrome()\n",
    "driver.get(url)\n",
    "code=driver.page_source\n"
   ]
  },
  {
   "cell_type": "code",
   "execution_count": 10,
   "metadata": {},
   "outputs": [],
   "source": [
    "soup=BeautifulSoup(code,'html.parser')\n"
   ]
  },
  {
   "cell_type": "code",
   "execution_count": 12,
   "metadata": {},
   "outputs": [],
   "source": [
    "products=soup.find_all(class_='buTCk')"
   ]
  },
  {
   "cell_type": "code",
   "execution_count": 18,
   "metadata": {},
   "outputs": [],
   "source": [
    "products_name=[]\n",
    "products_price=[]"
   ]
  },
  {
   "cell_type": "code",
   "execution_count": 19,
   "metadata": {},
   "outputs": [],
   "source": [
    "for x in products:\n",
    "    products_name.append(x.find(class_='RfADt').text)\n",
    "    products_price.append(x.find(class_='ooOxS').text)"
   ]
  },
  {
   "cell_type": "code",
   "execution_count": 20,
   "metadata": {},
   "outputs": [],
   "source": [
    "import pandas as pd\n",
    "df=pd.DataFrame({'Product Name':products_name,'Price':products_price})"
   ]
  },
  {
   "cell_type": "code",
   "execution_count": 22,
   "metadata": {},
   "outputs": [
    {
     "data": {
      "text/html": [
       "<div>\n",
       "<style scoped>\n",
       "    .dataframe tbody tr th:only-of-type {\n",
       "        vertical-align: middle;\n",
       "    }\n",
       "\n",
       "    .dataframe tbody tr th {\n",
       "        vertical-align: top;\n",
       "    }\n",
       "\n",
       "    .dataframe thead th {\n",
       "        text-align: right;\n",
       "    }\n",
       "</style>\n",
       "<table border=\"1\" class=\"dataframe\">\n",
       "  <thead>\n",
       "    <tr style=\"text-align: right;\">\n",
       "      <th></th>\n",
       "      <th>Product Name</th>\n",
       "      <th>Price</th>\n",
       "    </tr>\n",
       "  </thead>\n",
       "  <tbody>\n",
       "    <tr>\n",
       "      <th>0</th>\n",
       "      <td>Apple MacBook Air 13-inch M1 256GB - Oliz Store</td>\n",
       "      <td>Rs. 119,900</td>\n",
       "    </tr>\n",
       "    <tr>\n",
       "      <th>1</th>\n",
       "      <td>Dell Vostro 3520 i3 12th Gen | 16GB RAM | 512G...</td>\n",
       "      <td>Rs. 55,499</td>\n",
       "    </tr>\n",
       "    <tr>\n",
       "      <th>2</th>\n",
       "      <td>Dell Latitude E5470 I5-6th Gen | 8 GB RAM | 25...</td>\n",
       "      <td>Rs. 38,989</td>\n",
       "    </tr>\n",
       "    <tr>\n",
       "      <th>3</th>\n",
       "      <td>Dell Vostro 3520 i5 12th Gen | 8GB RAM | 256GB...</td>\n",
       "      <td>Rs. 62,499</td>\n",
       "    </tr>\n",
       "    <tr>\n",
       "      <th>4</th>\n",
       "      <td>Dell Celeron 5470 Intel UHD 8/256GB SSD</td>\n",
       "      <td>Rs. 35,800</td>\n",
       "    </tr>\n",
       "    <tr>\n",
       "      <th>5</th>\n",
       "      <td>Dell Vostro 3520 i5 12th Gen | 16GB RAM | 512G...</td>\n",
       "      <td>Rs. 68,499</td>\n",
       "    </tr>\n",
       "    <tr>\n",
       "      <th>6</th>\n",
       "      <td>Dell Vostro 3520 i3 12th Gen | 8GB RAM | 512GB...</td>\n",
       "      <td>Rs. 52,000</td>\n",
       "    </tr>\n",
       "    <tr>\n",
       "      <th>7</th>\n",
       "      <td>Acer Nitro V 15 i7 13th Gen 13620H | 16GB DDR5...</td>\n",
       "      <td>Rs. 135,666</td>\n",
       "    </tr>\n",
       "    <tr>\n",
       "      <th>8</th>\n",
       "      <td>Dell Wyse 5470 (Intel Celeron Processor | 8GB ...</td>\n",
       "      <td>Rs. 36,500</td>\n",
       "    </tr>\n",
       "    <tr>\n",
       "      <th>9</th>\n",
       "      <td>Acer Aspire 5 Core i5 13th Gen/8GB RAM/512GB S...</td>\n",
       "      <td>Rs. 70,550</td>\n",
       "    </tr>\n",
       "    <tr>\n",
       "      <th>10</th>\n",
       "      <td>Acer Aspire 5 i5 12th Gen 8GB Ram 512GB SSD 4G...</td>\n",
       "      <td>Rs. 83,000</td>\n",
       "    </tr>\n",
       "    <tr>\n",
       "      <th>11</th>\n",
       "      <td>Dell Latitude E5400 I5-8th Gen | 8 GB RAM | 25...</td>\n",
       "      <td>Rs. 45,489</td>\n",
       "    </tr>\n",
       "    <tr>\n",
       "      <th>12</th>\n",
       "      <td>ASUS Vivo Book X1402Z Core i5 12th Gen/8GB RAM...</td>\n",
       "      <td>Rs. 74,470</td>\n",
       "    </tr>\n",
       "    <tr>\n",
       "      <th>13</th>\n",
       "      <td>Acer Swift Go 14 Intel Evo i5 13th Gen 13500H ...</td>\n",
       "      <td>Rs. 99,999</td>\n",
       "    </tr>\n",
       "    <tr>\n",
       "      <th>14</th>\n",
       "      <td>Dell Latitude E5300 i5-8th Gen 8GB 256 SSD 13....</td>\n",
       "      <td>Rs. 44,990</td>\n",
       "    </tr>\n",
       "    <tr>\n",
       "      <th>15</th>\n",
       "      <td>Acer Nitro V 15 i7 13th Gen 13620H | 16GB DDR5...</td>\n",
       "      <td>Rs. 124,999</td>\n",
       "    </tr>\n",
       "    <tr>\n",
       "      <th>16</th>\n",
       "      <td>Acer Nitro V 15 Core i5-13420H 13th Gen/ 16 GB...</td>\n",
       "      <td>Rs. 99,950</td>\n",
       "    </tr>\n",
       "    <tr>\n",
       "      <th>17</th>\n",
       "      <td>Acer Aspire 3 Ryzen 7 - 5700U  / 16 GB RAM/ 51...</td>\n",
       "      <td>Rs. 72,510</td>\n",
       "    </tr>\n",
       "    <tr>\n",
       "      <th>18</th>\n",
       "      <td>Dell Vostro 3520 I3-12th gen 8GB RAM/512GB SSD...</td>\n",
       "      <td>Rs. 52,349</td>\n",
       "    </tr>\n",
       "    <tr>\n",
       "      <th>19</th>\n",
       "      <td>ASUS Zephyrus G15 GA503QE / Ryzen 9 5900HS / R...</td>\n",
       "      <td>Rs. 205,000</td>\n",
       "    </tr>\n",
       "    <tr>\n",
       "      <th>20</th>\n",
       "      <td>Lenovo V14 Celeron 4Gb Ram 256Gb SSD 14 FHD</td>\n",
       "      <td>Rs. 33,689</td>\n",
       "    </tr>\n",
       "    <tr>\n",
       "      <th>21</th>\n",
       "      <td>Acer Swift 3 Laptop /Ryzen 7 5700U/8GB/512 GB/...</td>\n",
       "      <td>Rs. 80,350</td>\n",
       "    </tr>\n",
       "    <tr>\n",
       "      <th>22</th>\n",
       "      <td>Acer Aspire 5 i5 13th Gen | 8GB LPDDR5 | 512GB...</td>\n",
       "      <td>Rs. 67,999</td>\n",
       "    </tr>\n",
       "    <tr>\n",
       "      <th>23</th>\n",
       "      <td>Asus VivoBook I512th Gen 16GB/512GB/14\"inch di...</td>\n",
       "      <td>Rs. 78,500</td>\n",
       "    </tr>\n",
       "    <tr>\n",
       "      <th>24</th>\n",
       "      <td>Lenovo ideapad Slim 3 i5 13th Gen 8GB RAM 512s...</td>\n",
       "      <td>Rs. 70,990</td>\n",
       "    </tr>\n",
       "    <tr>\n",
       "      <th>25</th>\n",
       "      <td>HP envy 14 [Intel core- i7 (Gen 1 ) 14th gen 1...</td>\n",
       "      <td>Rs. 124,999</td>\n",
       "    </tr>\n",
       "    <tr>\n",
       "      <th>26</th>\n",
       "      <td>Lenovo Thinkbook Gen 4 i5 1235U 12th Gen | 16G...</td>\n",
       "      <td>Rs. 77,999</td>\n",
       "    </tr>\n",
       "    <tr>\n",
       "      <th>27</th>\n",
       "      <td>Acer Predator Triton 300 SE i7 11th Gen RTX 30...</td>\n",
       "      <td>Rs. 123,589</td>\n",
       "    </tr>\n",
       "    <tr>\n",
       "      <th>28</th>\n",
       "      <td>Dell G15 5530 Intel Core i7 13650HX RTX 4060 8...</td>\n",
       "      <td>Rs. 164,999</td>\n",
       "    </tr>\n",
       "    <tr>\n",
       "      <th>29</th>\n",
       "      <td>Asus Vivobook X1404ZA | Intel Core i3 12th Gen...</td>\n",
       "      <td>Rs. 48,999</td>\n",
       "    </tr>\n",
       "    <tr>\n",
       "      <th>30</th>\n",
       "      <td>Acer Predator Helios 300 / i7 11th Gen / RTX 3...</td>\n",
       "      <td>Rs. 149,489</td>\n",
       "    </tr>\n",
       "    <tr>\n",
       "      <th>31</th>\n",
       "      <td>Dell Latitude E5470 Notebook (6th Gen) – Intel...</td>\n",
       "      <td>Rs. 39,500</td>\n",
       "    </tr>\n",
       "    <tr>\n",
       "      <th>32</th>\n",
       "      <td>Mi Notebook Pro Intel Core i5 11th Gen16GB/512...</td>\n",
       "      <td>Rs. 99,999</td>\n",
       "    </tr>\n",
       "    <tr>\n",
       "      <th>33</th>\n",
       "      <td>Laptop Lenovo IdeaPad Slim 3 i5-12450H/16GB RA...</td>\n",
       "      <td>Rs. 69,999</td>\n",
       "    </tr>\n",
       "    <tr>\n",
       "      <th>34</th>\n",
       "      <td>Dell Latitude E5300 2 in 1 360 Fold I5-8th Gen...</td>\n",
       "      <td>Rs. 49,999</td>\n",
       "    </tr>\n",
       "    <tr>\n",
       "      <th>35</th>\n",
       "      <td>Primebook 4G Android Based MediaTek MediaTek M...</td>\n",
       "      <td>Rs. 24,490</td>\n",
       "    </tr>\n",
       "    <tr>\n",
       "      <th>36</th>\n",
       "      <td>Dell Latitude E7490 Laptop I7-8th Gen 256 GB S...</td>\n",
       "      <td>Rs. 54,990</td>\n",
       "    </tr>\n",
       "    <tr>\n",
       "      <th>37</th>\n",
       "      <td>Dell Latitude E7400 Laptop I5-8th Gen 256 GB S...</td>\n",
       "      <td>Rs. 47,989</td>\n",
       "    </tr>\n",
       "    <tr>\n",
       "      <th>38</th>\n",
       "      <td>Lenovo IdeaPad Slim 3i 2023 15 i3 13Th Gen / 8...</td>\n",
       "      <td>Rs. 51,998</td>\n",
       "    </tr>\n",
       "    <tr>\n",
       "      <th>39</th>\n",
       "      <td>Dell Vostro 3520 Core i5 12th Gen/ 16GB RAM/51...</td>\n",
       "      <td>Rs. 68,100</td>\n",
       "    </tr>\n",
       "  </tbody>\n",
       "</table>\n",
       "</div>"
      ],
      "text/plain": [
       "                                         Product Name        Price\n",
       "0     Apple MacBook Air 13-inch M1 256GB - Oliz Store  Rs. 119,900\n",
       "1   Dell Vostro 3520 i3 12th Gen | 16GB RAM | 512G...   Rs. 55,499\n",
       "2   Dell Latitude E5470 I5-6th Gen | 8 GB RAM | 25...   Rs. 38,989\n",
       "3   Dell Vostro 3520 i5 12th Gen | 8GB RAM | 256GB...   Rs. 62,499\n",
       "4             Dell Celeron 5470 Intel UHD 8/256GB SSD   Rs. 35,800\n",
       "5   Dell Vostro 3520 i5 12th Gen | 16GB RAM | 512G...   Rs. 68,499\n",
       "6   Dell Vostro 3520 i3 12th Gen | 8GB RAM | 512GB...   Rs. 52,000\n",
       "7   Acer Nitro V 15 i7 13th Gen 13620H | 16GB DDR5...  Rs. 135,666\n",
       "8   Dell Wyse 5470 (Intel Celeron Processor | 8GB ...   Rs. 36,500\n",
       "9   Acer Aspire 5 Core i5 13th Gen/8GB RAM/512GB S...   Rs. 70,550\n",
       "10  Acer Aspire 5 i5 12th Gen 8GB Ram 512GB SSD 4G...   Rs. 83,000\n",
       "11  Dell Latitude E5400 I5-8th Gen | 8 GB RAM | 25...   Rs. 45,489\n",
       "12  ASUS Vivo Book X1402Z Core i5 12th Gen/8GB RAM...   Rs. 74,470\n",
       "13  Acer Swift Go 14 Intel Evo i5 13th Gen 13500H ...   Rs. 99,999\n",
       "14  Dell Latitude E5300 i5-8th Gen 8GB 256 SSD 13....   Rs. 44,990\n",
       "15  Acer Nitro V 15 i7 13th Gen 13620H | 16GB DDR5...  Rs. 124,999\n",
       "16  Acer Nitro V 15 Core i5-13420H 13th Gen/ 16 GB...   Rs. 99,950\n",
       "17  Acer Aspire 3 Ryzen 7 - 5700U  / 16 GB RAM/ 51...   Rs. 72,510\n",
       "18  Dell Vostro 3520 I3-12th gen 8GB RAM/512GB SSD...   Rs. 52,349\n",
       "19  ASUS Zephyrus G15 GA503QE / Ryzen 9 5900HS / R...  Rs. 205,000\n",
       "20        Lenovo V14 Celeron 4Gb Ram 256Gb SSD 14 FHD   Rs. 33,689\n",
       "21  Acer Swift 3 Laptop /Ryzen 7 5700U/8GB/512 GB/...   Rs. 80,350\n",
       "22  Acer Aspire 5 i5 13th Gen | 8GB LPDDR5 | 512GB...   Rs. 67,999\n",
       "23  Asus VivoBook I512th Gen 16GB/512GB/14\"inch di...   Rs. 78,500\n",
       "24  Lenovo ideapad Slim 3 i5 13th Gen 8GB RAM 512s...   Rs. 70,990\n",
       "25  HP envy 14 [Intel core- i7 (Gen 1 ) 14th gen 1...  Rs. 124,999\n",
       "26  Lenovo Thinkbook Gen 4 i5 1235U 12th Gen | 16G...   Rs. 77,999\n",
       "27  Acer Predator Triton 300 SE i7 11th Gen RTX 30...  Rs. 123,589\n",
       "28  Dell G15 5530 Intel Core i7 13650HX RTX 4060 8...  Rs. 164,999\n",
       "29  Asus Vivobook X1404ZA | Intel Core i3 12th Gen...   Rs. 48,999\n",
       "30  Acer Predator Helios 300 / i7 11th Gen / RTX 3...  Rs. 149,489\n",
       "31  Dell Latitude E5470 Notebook (6th Gen) – Intel...   Rs. 39,500\n",
       "32  Mi Notebook Pro Intel Core i5 11th Gen16GB/512...   Rs. 99,999\n",
       "33  Laptop Lenovo IdeaPad Slim 3 i5-12450H/16GB RA...   Rs. 69,999\n",
       "34  Dell Latitude E5300 2 in 1 360 Fold I5-8th Gen...   Rs. 49,999\n",
       "35  Primebook 4G Android Based MediaTek MediaTek M...   Rs. 24,490\n",
       "36  Dell Latitude E7490 Laptop I7-8th Gen 256 GB S...   Rs. 54,990\n",
       "37  Dell Latitude E7400 Laptop I5-8th Gen 256 GB S...   Rs. 47,989\n",
       "38  Lenovo IdeaPad Slim 3i 2023 15 i3 13Th Gen / 8...   Rs. 51,998\n",
       "39  Dell Vostro 3520 Core i5 12th Gen/ 16GB RAM/51...   Rs. 68,100"
      ]
     },
     "execution_count": 22,
     "metadata": {},
     "output_type": "execute_result"
    }
   ],
   "source": [
    "df\n"
   ]
  },
  {
   "cell_type": "code",
   "execution_count": 23,
   "metadata": {},
   "outputs": [],
   "source": [
    "df.to_csv('laptop.csv',index=False)"
   ]
  },
  {
   "cell_type": "code",
   "execution_count": 60,
   "metadata": {},
   "outputs": [],
   "source": [
    "url=\"https://www.setopati.com/social/338758\"\n",
    "driver = webdriver.Chrome()\n",
    "driver.get(url)\n",
    "code=driver.page_source\n"
   ]
  },
  {
   "cell_type": "code",
   "execution_count": 25,
   "metadata": {},
   "outputs": [],
   "source": [
    "soupp=BeautifulSoup(code,'html.parser')"
   ]
  },
  {
   "cell_type": "code",
   "execution_count": 65,
   "metadata": {},
   "outputs": [],
   "source": [
    "information=soupp.find_all(class_=\"container\")\n"
   ]
  },
  {
   "cell_type": "code",
   "execution_count": 71,
   "metadata": {},
   "outputs": [
    {
     "ename": "AttributeError",
     "evalue": "ResultSet object has no attribute 'find'. You're probably treating a list of elements like a single element. Did you call find_all() when you meant to call find()?",
     "output_type": "error",
     "traceback": [
      "\u001b[1;31m---------------------------------------------------------------------------\u001b[0m",
      "\u001b[1;31mAttributeError\u001b[0m                            Traceback (most recent call last)",
      "Cell \u001b[1;32mIn[71], line 1\u001b[0m\n\u001b[1;32m----> 1\u001b[0m title\u001b[38;5;241m=\u001b[39m\u001b[43minformation\u001b[49m\u001b[38;5;241;43m.\u001b[39;49m\u001b[43mfind\u001b[49m(class_\u001b[38;5;241m=\u001b[39m\u001b[38;5;124m\"\u001b[39m\u001b[38;5;124mnews-big-title\u001b[39m\u001b[38;5;124m\"\u001b[39m)\u001b[38;5;241m.\u001b[39mtext\n\u001b[0;32m      2\u001b[0m content\u001b[38;5;241m=\u001b[39minformation\u001b[38;5;241m.\u001b[39mfind(\u001b[38;5;124m'\u001b[39m\u001b[38;5;124mp\u001b[39m\u001b[38;5;124m'\u001b[39m)\u001b[38;5;241m.\u001b[39mtext\n",
      "File \u001b[1;32me:\\Ml-evolve\\venv\\Lib\\site-packages\\bs4\\element.py:2433\u001b[0m, in \u001b[0;36mResultSet.__getattr__\u001b[1;34m(self, key)\u001b[0m\n\u001b[0;32m   2431\u001b[0m \u001b[38;5;28;01mdef\u001b[39;00m \u001b[38;5;21m__getattr__\u001b[39m(\u001b[38;5;28mself\u001b[39m, key):\n\u001b[0;32m   2432\u001b[0m \u001b[38;5;250m    \u001b[39m\u001b[38;5;124;03m\"\"\"Raise a helpful exception to explain a common code fix.\"\"\"\u001b[39;00m\n\u001b[1;32m-> 2433\u001b[0m     \u001b[38;5;28;01mraise\u001b[39;00m \u001b[38;5;167;01mAttributeError\u001b[39;00m(\n\u001b[0;32m   2434\u001b[0m         \u001b[38;5;124m\"\u001b[39m\u001b[38;5;124mResultSet object has no attribute \u001b[39m\u001b[38;5;124m'\u001b[39m\u001b[38;5;132;01m%s\u001b[39;00m\u001b[38;5;124m'\u001b[39m\u001b[38;5;124m. You\u001b[39m\u001b[38;5;124m'\u001b[39m\u001b[38;5;124mre probably treating a list of elements like a single element. Did you call find_all() when you meant to call find()?\u001b[39m\u001b[38;5;124m\"\u001b[39m \u001b[38;5;241m%\u001b[39m key\n\u001b[0;32m   2435\u001b[0m     )\n",
      "\u001b[1;31mAttributeError\u001b[0m: ResultSet object has no attribute 'find'. You're probably treating a list of elements like a single element. Did you call find_all() when you meant to call find()?"
     ]
    }
   ],
   "source": [
    "title=information.find(class_=\"news-big-title\").text\n",
    "content=information.find('p').text"
   ]
  },
  {
   "cell_type": "code",
   "execution_count": 69,
   "metadata": {},
   "outputs": [
    {
     "ename": "AttributeError",
     "evalue": "'NoneType' object has no attribute 'text'",
     "output_type": "error",
     "traceback": [
      "\u001b[1;31m---------------------------------------------------------------------------\u001b[0m",
      "\u001b[1;31mAttributeError\u001b[0m                            Traceback (most recent call last)",
      "Cell \u001b[1;32mIn[69], line 2\u001b[0m\n\u001b[0;32m      1\u001b[0m \u001b[38;5;28;01mfor\u001b[39;00m i \u001b[38;5;129;01min\u001b[39;00m information:\n\u001b[1;32m----> 2\u001b[0m     information_title\u001b[38;5;241m.\u001b[39mappend(\u001b[43mi\u001b[49m\u001b[38;5;241;43m.\u001b[39;49m\u001b[43mfind\u001b[49m\u001b[43m(\u001b[49m\u001b[38;5;124;43m'\u001b[39;49m\u001b[38;5;124;43mh1\u001b[39;49m\u001b[38;5;124;43m'\u001b[39;49m\u001b[43m,\u001b[49m\u001b[43mclass_\u001b[49m\u001b[38;5;241;43m=\u001b[39;49m\u001b[38;5;124;43m'\u001b[39;49m\u001b[38;5;124;43mnews-big-title\u001b[39;49m\u001b[38;5;124;43m'\u001b[39;49m\u001b[43m)\u001b[49m\u001b[38;5;241;43m.\u001b[39;49m\u001b[43mtext\u001b[49m)\n\u001b[0;32m      3\u001b[0m     information_content\u001b[38;5;241m.\u001b[39mappend(i\u001b[38;5;241m.\u001b[39mfind(\u001b[38;5;124m'\u001b[39m\u001b[38;5;124mp\u001b[39m\u001b[38;5;124m'\u001b[39m,style_\u001b[38;5;241m=\u001b[39m\u001b[38;5;124m'\u001b[39m\u001b[38;5;124mtext-align: justify;\u001b[39m\u001b[38;5;124m'\u001b[39m)\u001b[38;5;241m.\u001b[39mtext)\n",
      "\u001b[1;31mAttributeError\u001b[0m: 'NoneType' object has no attribute 'text'"
     ]
    }
   ],
   "source": []
  },
  {
   "cell_type": "code",
   "execution_count": 68,
   "metadata": {},
   "outputs": [
    {
     "name": "stdout",
     "output_type": "stream",
     "text": [
      "[<div class=\"mast-head-ad container\"><div class=\"row top-main-ads\"><div class=\"col-md-12 mast-head\" style=\"margin-top:0px;\"><div class=\"row\"><div class=\"main-bigyaapan top-full col-md-12\" style=\"margin-top:15px;\"><div class=\"top-bigyaapan desktop-bigyaapan-only\"><a href=\"https://ncit.edu.np/\" target=\"_blank\" title=\"Ncit\"><img alt=\"Ncit\" src=\"https://img.setoparty.com/uploads/bigyaapan/75717000.jpeg\"/></a></div><div class=\"top-bigyaapan mobile-bigyaapan-only\"><a href=\"https://ncit.edu.np/\" target=\"_blank\" title=\"Ncit\"><img alt=\"Ncit\" src=\"https://img.setoparty.com/uploads/bigyaapan/75782000.jpeg\"/></a></div></div></div></div><header class=\"new-header col-md-12\" id=\"header\"><div class=\"container\"><div class=\"row\"><!--<logo>--><div class=\"logo-box col-md-12\"><a href=\"https://www.setopati.com\" title=\"Setopati:Nepal's Digital News Paper\"><figure><img alt=\"Setopati\" src=\"https://www.setopati.com/themes/setopati/images/logo.svg?v=1.9\" style=\"width:418px;height:110px;\"/><span class=\"cat-title\">समाज</span></figure></a></div><!--</logo>--></div><div class=\"row time-settings\"><div class=\"calendar-box subscribe-section social-box col-md-4\"><span class=\"media icon-text aajako-chhapa unicode-type subscribe-link\"><span class=\"link-text\"><a href=\"https://www.setopati.com/subscribe\" title=\"Subscribe Setopati\"><span class=\"text-uppercase main-title subscribe-link-btn\">Subscribe Setopati</span></a></span></span><span class=\"media icon-text login-link\"><span class=\"link-text\" id=\"login-container\"><a href=\"https://www.setopati.com/login\" title=\"Log In\"><span class=\"left-icon fal fa-user\"></span><span class=\"text-uppercase main-title\">Log In</span></a></span></span></div><!--<calendar>--><div class=\"calendar-box social-box col-md-8\"><span class=\"media icon-text current-date\"><span class=\"left-icon lnr lnr-calendar-full\"></span><span class=\"main-title\">मंगलबार, भदौ २५, २०८१</span></span><span class=\"media icon-text current-date current-time\"><span class=\"left-icon lnr lnr-clock\"></span><span class=\"main-title\" id=\"live-time\">८ : ४७ : ३०</span></span><span class=\"media icon-text aajako-chhapa unicode-type\"><span class=\"link-text\"><a href=\"https://www.setopati.com/unicode-converter\" title=\"युनिकोड\"><span class=\"left-icon fa fa-keyboard-o\"></span><span class=\"main-title\">युनिकोड</span></a></span></span><span class=\"media icon-text current-date current-time edition-btn\"><span class=\"link-text\"><a href=\"https://en.setopati.com/\" target=\"_blank\" title=\"Enlish Edition\"><span class=\"left-icon lang-btn\">EN</span><span class=\"main-title\">English</span></a></span></span><span class=\"media social-links\"><span class=\"link-text\"><a href=\"https://www.facebook.com/setopati\" target=\"_blank\" title=\"Like us on Facebook\"><span class=\"left-icon fab fa-facebook-f\"></span></a></span><span class=\"link-text\"><a href=\"https://twitter.com/setopati\" target=\"_blank\" title=\"Follow us on Twitter\"><span class=\"left-icon fab fa-twitter\"></span></a></span><span class=\"link-text\"><a href=\"https://www.youtube.com/user/setopati\" target=\"_blank\" title=\"Subscribe YouTube Channel\"><span class=\"left-icon fab fa-youtube\"></span></a></span></span></div></div></div><div class=\"container main-menu\"><div class=\"row header-main\"><div class=\"col-md-12 navigation-box\"><!--<navigation starts>--><div class=\"navigation_box\"><ul><li class=\"home-text\"><a class=\"\" href=\"https://www.setopati.com\" title=\"गृहपृष्ठ\"><img alt=\"Setopati\" class=\"logo-circle\" src=\"https://www.setopati.com/themes/setopati/images/logo-icon.svg\" style=\"width:26px;height:26px;\"/><span class=\"home-link\">गृहपृष्ठ</span></a></li><li><a class=\"selected highlighted-category\" href=\"https://www.setopati.com/exclusive\" title=\"प्रिमियम स्टोरी\"> प्रिमियम स्टोरी </a></li><li><a class=\"\" href=\"https://www.setopati.com/politics\" title=\"राजनीति\"> राजनीति </a></li><li><a class=\"\" href=\"https://www.setopati.com/kinmel\" title=\"बजार अर्थतन्त्र\"> बजार अर्थतन्त्र </a></li><li><a class=\"\" href=\"https://www.setopati.com/opinion\" title=\"विचार\"> विचार </a></li><li><a class=\"\" href=\"https://www.setopati.com/nepali-brand\" title=\"नेपाली ब्रान्ड\"> नेपाली ब्रान्ड </a></li><li><a class=\"\" href=\"https://www.setopati.com/social\" title=\"समाज\"> समाज </a></li><li><a class=\"\" href=\"https://www.setopati.com/art\" title=\"कला\"> कला </a></li><li><a class=\"\" href=\"https://www.setopati.com/blog\" title=\"ब्लग\"> ब्लग </a></li><li><a class=\"\" href=\"https://www.setopati.com/sports\" title=\"खेलकुद\"> खेलकुद </a></li><li><a class=\"\" href=\"https://www.setopati.com/global\" title=\"ग्लोबल\"> ग्लोबल </a></li><li><a class=\"\" href=\"https://www.setopati.com/cover-story\" title=\"कभर स्टोरी\"> कभर स्टोरी </a></li><li class=\"search\"><a class=\"btn-search\" href=\"javascript:void(0)\" title=\"Search\"><span class=\"left-icon lnr lnr-magnifier\"></span></a></li></ul><!--<search form>--><form action=\"https://www.setopati.com/search\" class=\"search-site full-search\" id=\"globalSearch\" method=\"GET\" style=\"display: none;\"><input name=\"_token\" type=\"hidden\" value=\"\"/><fieldset><input class=\"textfield\" id=\"from-date\" name=\"from\" placeholder=\"From\" type=\"text\"/><input class=\"textfield\" disabled=\"\" id=\"to-date\" name=\"to\" placeholder=\"To\" type=\"text\"/><input class=\"textfield\" name=\"keyword\" placeholder=\"यहाँ टाईप गर्नुहोस्\" type=\"text\"/><input id=\"google_captcha\" name=\"google_captcha\" type=\"hidden\"/><button class=\"search-btn\" type=\"submit\"><span class=\"submit-btn lnr lnr-magnifier\"></span></button></fieldset></form><!--</search form>--></div></div><!--</navigation ends>--></div></div></header></div></div>, <div class=\"container\"><div class=\"row\"><!--<logo>--><div class=\"logo-box col-md-12\"><a href=\"https://www.setopati.com\" title=\"Setopati:Nepal's Digital News Paper\"><figure><img alt=\"Setopati\" src=\"https://www.setopati.com/themes/setopati/images/logo.svg?v=1.9\" style=\"width:418px;height:110px;\"/><span class=\"cat-title\">समाज</span></figure></a></div><!--</logo>--></div><div class=\"row time-settings\"><div class=\"calendar-box subscribe-section social-box col-md-4\"><span class=\"media icon-text aajako-chhapa unicode-type subscribe-link\"><span class=\"link-text\"><a href=\"https://www.setopati.com/subscribe\" title=\"Subscribe Setopati\"><span class=\"text-uppercase main-title subscribe-link-btn\">Subscribe Setopati</span></a></span></span><span class=\"media icon-text login-link\"><span class=\"link-text\" id=\"login-container\"><a href=\"https://www.setopati.com/login\" title=\"Log In\"><span class=\"left-icon fal fa-user\"></span><span class=\"text-uppercase main-title\">Log In</span></a></span></span></div><!--<calendar>--><div class=\"calendar-box social-box col-md-8\"><span class=\"media icon-text current-date\"><span class=\"left-icon lnr lnr-calendar-full\"></span><span class=\"main-title\">मंगलबार, भदौ २५, २०८१</span></span><span class=\"media icon-text current-date current-time\"><span class=\"left-icon lnr lnr-clock\"></span><span class=\"main-title\" id=\"live-time\">८ : ४७ : ३०</span></span><span class=\"media icon-text aajako-chhapa unicode-type\"><span class=\"link-text\"><a href=\"https://www.setopati.com/unicode-converter\" title=\"युनिकोड\"><span class=\"left-icon fa fa-keyboard-o\"></span><span class=\"main-title\">युनिकोड</span></a></span></span><span class=\"media icon-text current-date current-time edition-btn\"><span class=\"link-text\"><a href=\"https://en.setopati.com/\" target=\"_blank\" title=\"Enlish Edition\"><span class=\"left-icon lang-btn\">EN</span><span class=\"main-title\">English</span></a></span></span><span class=\"media social-links\"><span class=\"link-text\"><a href=\"https://www.facebook.com/setopati\" target=\"_blank\" title=\"Like us on Facebook\"><span class=\"left-icon fab fa-facebook-f\"></span></a></span><span class=\"link-text\"><a href=\"https://twitter.com/setopati\" target=\"_blank\" title=\"Follow us on Twitter\"><span class=\"left-icon fab fa-twitter\"></span></a></span><span class=\"link-text\"><a href=\"https://www.youtube.com/user/setopati\" target=\"_blank\" title=\"Subscribe YouTube Channel\"><span class=\"left-icon fab fa-youtube\"></span></a></span></span></div></div></div>, <div class=\"container main-menu\"><div class=\"row header-main\"><div class=\"col-md-12 navigation-box\"><!--<navigation starts>--><div class=\"navigation_box\"><ul><li class=\"home-text\"><a class=\"\" href=\"https://www.setopati.com\" title=\"गृहपृष्ठ\"><img alt=\"Setopati\" class=\"logo-circle\" src=\"https://www.setopati.com/themes/setopati/images/logo-icon.svg\" style=\"width:26px;height:26px;\"/><span class=\"home-link\">गृहपृष्ठ</span></a></li><li><a class=\"selected highlighted-category\" href=\"https://www.setopati.com/exclusive\" title=\"प्रिमियम स्टोरी\"> प्रिमियम स्टोरी </a></li><li><a class=\"\" href=\"https://www.setopati.com/politics\" title=\"राजनीति\"> राजनीति </a></li><li><a class=\"\" href=\"https://www.setopati.com/kinmel\" title=\"बजार अर्थतन्त्र\"> बजार अर्थतन्त्र </a></li><li><a class=\"\" href=\"https://www.setopati.com/opinion\" title=\"विचार\"> विचार </a></li><li><a class=\"\" href=\"https://www.setopati.com/nepali-brand\" title=\"नेपाली ब्रान्ड\"> नेपाली ब्रान्ड </a></li><li><a class=\"\" href=\"https://www.setopati.com/social\" title=\"समाज\"> समाज </a></li><li><a class=\"\" href=\"https://www.setopati.com/art\" title=\"कला\"> कला </a></li><li><a class=\"\" href=\"https://www.setopati.com/blog\" title=\"ब्लग\"> ब्लग </a></li><li><a class=\"\" href=\"https://www.setopati.com/sports\" title=\"खेलकुद\"> खेलकुद </a></li><li><a class=\"\" href=\"https://www.setopati.com/global\" title=\"ग्लोबल\"> ग्लोबल </a></li><li><a class=\"\" href=\"https://www.setopati.com/cover-story\" title=\"कभर स्टोरी\"> कभर स्टोरी </a></li><li class=\"search\"><a class=\"btn-search\" href=\"javascript:void(0)\" title=\"Search\"><span class=\"left-icon lnr lnr-magnifier\"></span></a></li></ul><!--<search form>--><form action=\"https://www.setopati.com/search\" class=\"search-site full-search\" id=\"globalSearch\" method=\"GET\" style=\"display: none;\"><input name=\"_token\" type=\"hidden\" value=\"\"/><fieldset><input class=\"textfield\" id=\"from-date\" name=\"from\" placeholder=\"From\" type=\"text\"/><input class=\"textfield\" disabled=\"\" id=\"to-date\" name=\"to\" placeholder=\"To\" type=\"text\"/><input class=\"textfield\" name=\"keyword\" placeholder=\"यहाँ टाईप गर्नुहोस्\" type=\"text\"/><input id=\"google_captcha\" name=\"google_captcha\" type=\"hidden\"/><button class=\"search-btn\" type=\"submit\"><span class=\"submit-btn lnr lnr-magnifier\"></span></button></fieldset></form><!--</search form>--></div></div><!--</navigation ends>--></div></div>, <div class=\"container\"><!--<section full ad>--><section class=\"section content-editor news-detail-section col-md-12\"><div class=\"title-names col-md-10 offset-md-1\"><h1 class=\"news-big-title\">भेरी अस्पतालमा जापानिज इन्सेफ्लाइटिसको बिरामी फेला</h1><span class=\"news-sub-heading\"></span><!--<full ad>--><div class=\"full-ad col-md-12\"><div class=\"section desktop-bigyaapan-only\"><div class=\"container\"><div class=\"row\"><div class=\"full-bigyaapan col-md-12\"><a href=\"https://www.gmotors.com.np/\" target=\"_blank\" title=\"Skywell\"><img alt=\"Skywell\" src=\"https://www.setopati.com/uploads/bigyaapan/96548100.gif\"/></a></div></div></div></div><div class=\"section mobile-bigyaapan-only pt-3\"><div class=\"container\"><div class=\"row\"><div class=\"full-bigyaapan col-md-12\"><a href=\"https://www.gmotors.com.np/\" target=\"_blank\" title=\"Skywell\"><img alt=\"Skywell\" src=\"https://www.setopati.com/uploads/bigyaapan/96844200.gif\"/></a></div></div></div></div></div><!--</full ad>--><div class=\"row authors-box\"><div class=\"items author-pic col-md-4\"><div class=\"media\"><div class=\"mr-3\"><img alt=\"रासस\" class=\"author rounded-circle\" src=\"https://img.setoparty.com/uploads/authors/1525571282RSS.png\"/><span class=\"social-links\"><span class=\"link-text fb\"><a href=\"https://www.facebook.com/RSSNepal\" target=\"_blank\" title=\"Like me on Facebook\"><span class=\"left-icon fab fa-facebook-f\"></span></a></span><span class=\"link-text tw\"><a href=\"https://twitter.com/RSSNEPAL\" target=\"_blank\" title=\"Follow me on Twitter\"><span class=\"left-icon fab fa-twitter\"></span></a></span></span></div><div class=\"media-body\"><h2 class=\"main-title\"><a href=\"https://www.setopati.com/author/69\" title=\"रासस\"> रासस </a></h2><span class=\"designation\">बाँके, भदौ २५</span></div></div></div><div class=\"full-ad mobile-only col-md-12\"><div class=\"section desktop-bigyaapan-only\"><div class=\"container\"><div class=\"row\"><div class=\"full-bigyaapan col-md-12\"><a href=\"https://www.globalimebank.com\" target=\"_blank\" title=\"gibl\"><img alt=\"gibl\" src=\"https://www.setopati.com/uploads/bigyaapan/33237600.gif\"/></a></div></div></div></div><div class=\"section mobile-bigyaapan-only pt-3\"><div class=\"container\"><div class=\"row\"><div class=\"full-bigyaapan col-md-12\"><a href=\"https://www.globalimebank.com\" target=\"_blank\" title=\"gibl\"><img alt=\"gibl\" src=\"https://www.setopati.com/uploads/bigyaapan/33953700.gif\"/></a></div></div></div></div></div><div class=\"share-box col-md-4\"><div class=\"share-now sharethis-inline-share-buttons st-center st-inline-share-buttons st-animated\" id=\"st-1\"><div class=\"st-total\">\n",
      "<span class=\"st-label\">16</span>\n",
      "<span class=\"st-shares\">\n",
      "    Shares\n",
      "  </span>\n",
      "</div><div class=\"st-btn st-first st-remove-label\" data-network=\"facebook\" style=\"display: inline-block;\">\n",
      "<img alt=\"facebook sharing button\" src=\"https://platform-cdn.sharethis.com/img/facebook.svg\"/>\n",
      "</div><div class=\"st-btn st-remove-label\" data-network=\"twitter\" style=\"display: inline-block;\">\n",
      "<img alt=\"twitter sharing button\" src=\"https://platform-cdn.sharethis.com/img/twitter.svg\"/>\n",
      "</div><div class=\"st-btn st-remove-label\" data-network=\"messenger\" style=\"display: inline-block;\">\n",
      "<img alt=\"messenger sharing button\" src=\"https://platform-cdn.sharethis.com/img/messenger.svg\"/>\n",
      "</div><div class=\"st-btn st-remove-label\" data-network=\"whatsapp\" style=\"display: none;\">\n",
      "<img alt=\"whatsapp sharing button\" src=\"https://platform-cdn.sharethis.com/img/whatsapp.svg\"/>\n",
      "</div><div class=\"st-btn st-last st-remove-label\" data-network=\"sharethis\" style=\"display: inline-block;\">\n",
      "<img alt=\"sharethis sharing button\" src=\"https://platform-cdn.sharethis.com/img/sharethis.svg\"/>\n",
      "</div></div></div></div><div class=\"full-ad desktop-only col-md-12\"><div class=\"section desktop-bigyaapan-only\"><div class=\"container\"><div class=\"row\"><div class=\"full-bigyaapan col-md-12\"><a href=\"https://www.globalimebank.com\" target=\"_blank\" title=\"gibl\"><img alt=\"gibl\" src=\"https://www.setopati.com/uploads/bigyaapan/33237600.gif\"/></a></div></div></div></div><div class=\"section mobile-bigyaapan-only pt-3\"><div class=\"container\"><div class=\"row\"><div class=\"full-bigyaapan col-md-12\"><a href=\"https://www.globalimebank.com\" target=\"_blank\" title=\"gibl\"><img alt=\"gibl\" src=\"https://www.setopati.com/uploads/bigyaapan/33953700.gif\"/></a></div></div></div></div></div><div class=\"full-ad desktop-only col-md-12\"><div class=\"section desktop-bigyaapan-only\"><div class=\"container\"><div class=\"row\"><div class=\"full-bigyaapan col-md-12\"><a href=\"https://www.thebritishcollege.edu.np/programme?utm_medium=Setopati\" target=\"_blank\" title=\"British\"><img alt=\"British\" src=\"https://www.setopati.com/uploads/bigyaapan/04679200.gif\"/></a></div></div></div></div><div class=\"section mobile-bigyaapan-only pt-3\"><div class=\"container\"><div class=\"row\"><div class=\"full-bigyaapan col-md-12\"><a href=\"https://www.thebritishcollege.edu.np/programme?utm_medium=Setopati\" target=\"_blank\" title=\"British\"><img alt=\"British\" src=\"https://www.setopati.com/uploads/bigyaapan/14558800.gif\"/></a></div></div></div></div></div><div class=\"full-ad mobile-only col-md-12\"><div class=\"section desktop-bigyaapan-only\"><div class=\"container\"><div class=\"row\"><div class=\"full-bigyaapan col-md-12\"><a href=\"https://www.thebritishcollege.edu.np/programme?utm_medium=Setopati\" target=\"_blank\" title=\"British\"><img alt=\"British\" src=\"https://www.setopati.com/uploads/bigyaapan/04679200.gif\"/></a></div></div></div></div><div class=\"section mobile-bigyaapan-only pt-3\"><div class=\"container\"><div class=\"row\"><div class=\"full-bigyaapan col-md-12\"><a href=\"https://www.thebritishcollege.edu.np/programme?utm_medium=Setopati\" target=\"_blank\" title=\"British\"><img alt=\"British\" src=\"https://www.setopati.com/uploads/bigyaapan/14558800.gif\"/></a></div></div></div></div></div></div><div class=\"row sif-images sif-videos\"><div class=\"featured-images col-md-12\" id=\"featured-images\"><figure class=\"new-featured-image show-featured-image\"><img alt=\"फाइल तस्बिर।\" src=\"https://img.setoparty.com/uploads/posts/dengi-1722689447.jpg\"/><figcaption class=\"caption-line\">फाइल तस्बिर।</figcaption></figure></div></div></section><!--</section full ad>--><!--<middle section>--><div class=\"row\"><!--<left side>--><aside class=\"left-side col-sm-8 col-md-9\"><div class=\"row\"><!--<editor-box>--><div class=\"detail-box col-md-12\"><div class=\"editor-box\"><div class=\"insert-ad\"><div class=\"items desktop-bigyaapan-only\" style=\"margin-right:14px;\"><a href=\"https://cvbu.sipradi.com.np/\" title=\"Tata box 1\"><img alt=\"Tata box 1\" src=\"https://www.setopati.com/uploads/bigyaapan/14049500.gif\"/></a></div></div><div class=\"insert-ad\"><div class=\"items mobile-bigyaapan-only\" style=\"margin-right:14px;\"><a href=\"https://cvbu.sipradi.com.np/\" title=\"Tata box 1\"><img alt=\"Tata box 1\" src=\"https://www.setopati.com/uploads/bigyaapan/14176500.gif\"/></a></div></div><p style=\"text-align: justify;\">बाँकेको नरैनापुर गाउँपालिकामा जापानिजइन्सेफ्लाइटिसको बिरामी फेलापरेको छ।</p><p style=\"text-align: justify;\">नरैनापुर–१ मतहनियाका नौ वर्षीया बालिकालाई जापानिजइन्सेफ्लाइटिस पुष्टि भएको भेरी अस्पतालका  बालरोग विशेषज्ञ डा. प्रतिमा खड्काले जानकारी दिए।</p><p style=\"text-align: justify;\">उनले बिरामीको एक सातासम्म अस्पतालको ‘आइसीयू’मा उपचार भएको र अहिले ती बालिकाकाको  अवस्था सामान्य भएको बताए।</p><p style=\"text-align: justify;\">‘प्रयोगशाला परीक्षणमा बालिकालाई जापानिजइन्सेफ्लाइटिसको भएको पुष्टि भयो,’ उनले भने।</p><p style=\"text-align: justify;\">स्वास्थ्य कार्यालयका प्रमुख अङ्गदबहादुर शाहीले पनि भेरी अस्पतालमा भर्ना भएकी नरैनापुर –१ मतहनियाका नौ वर्षीया बालिकामा जापानिजइन्सेफ्लाइटिस भएको पुष्टि भएको बताए।</p><p style=\"text-align: justify;\">ती बालिकालाई जापानी इन्सेफ्लाइटिसविरुद्धको खोप लगाएको वा नलगाएको बारे पनि थाहा हुन नसकेको जनाइएको छ।</p><div class=\"insert-ad\"><div class=\"items desktop-bigyaapan-only\"><a href=\"https://youtu.be/7uIsfOlEB8o?si=iUep2CzmgPJ2RkOz\" title=\"Laxmi bank\"><img alt=\"Laxmi bank\" src=\"https://www.setopati.com/uploads/bigyaapan/14397800.gif\" style=\" width:188px; float:left;\"/></a></div></div><div class=\"insert-ad\"><div class=\"items mobile-bigyaapan-only\"><a href=\"https://youtu.be/7uIsfOlEB8o?si=iUep2CzmgPJ2RkOz\" title=\"Laxmi bank\"><img alt=\"Laxmi bank\" src=\"https://www.setopati.com/uploads/bigyaapan/14505400.gif\" style=\" width:188px; float:left;\"/></a></div></div><p style=\"text-align: justify;\"> उनले जापानी इन्सेफ्लाइटिसबाट जोगिन जन्मेको १२ देखि २३ महिनाभित्र खोप लगाइसक्नुपर्ने प्रावधान रहेको उल्लेख गर्नुभयो ।</p><p style=\"text-align: justify;\"> चिकित्सकका अनुसार सुँगुर र चरामा जापानिजइन्सेफ्लाइटिसका भाइरस हुन्छन्।</p><div class=\"media ad-item desktop-bigyaapan-only\"><a href=\"https://www.ncell.com.np/en/business?utm_source=Online&amp;utm_medium=Setopati&amp;utm_campaign=Biz+Sadhai+on-+unlimited+call%2C+unlimited+subidha\" title=\"Ncell\"><img alt=\"Ncell\" class=\"pull-img-left\" src=\"https://www.setopati.com/uploads/bigyaapan/68402800.jpeg\" style=\"margin-left:0px !important; width:100%;\"/></a></div><div class=\"media ad-item mobile-bigyaapan-only\"><a href=\"https://www.ncell.com.np/en/business?utm_source=Online&amp;utm_medium=Setopati&amp;utm_campaign=Biz+Sadhai+on-+unlimited+call%2C+unlimited+subidha\" title=\"Ncell\"><img alt=\"Ncell\" src=\"https://www.setopati.com/uploads/bigyaapan/68494900.jpeg\" style=\"margin-left:0px !important; width:100%;\"/></a></div><p style=\"text-align: justify;\">ती जनावरलाई टोकेको क्युलेक्स नाम गरेको लामखुट्टेले मानिसलाई टोकेपछि संक्रमित गराउँछ । सो भाइरसले मुख्यतया मस्तिष्कलाई असर पार्ने बताइएको छ । जापानिजइन्सेफ्लाइटिस भइसकेपछि ज्वरो आउने, टाउको दुख्ने, जिउ काम्ने र बान्ता लागेजस्तो लक्षण देखापर्ने भेरी अस्पतालका सूचना अधिकारी डा. सङ्केतकुमार रिसालले बताए।</p><p style=\"text-align: justify;\"><strong>यो पनिः <a href=\"https://www.setopati.com/social/314695\">जापानिज इन्सेफलाइटिसको ज्वरो कसरी थाहा पाउने? (भिडिओ)</a></strong></p><p></p></div><!--</editor-box>--><!--<publish date>--><div class=\"row published-box\"><div class=\"published-date col-md-6\"><span class=\"pub-date\">प्रकाशित मिति: मंगलबार, भदौ २५, २०८१ <span class=\"fa fa-clock-o\"></span> ०८:३०</span></div><div class=\"share-box col-md-6\"><div class=\"share-now sharethis-inline-share-buttons st-center st-inline-share-buttons st-animated\" id=\"st-3\"><div class=\"st-total\">\n",
      "<span class=\"st-label\">16</span>\n",
      "<span class=\"st-shares\">\n",
      "    Shares\n",
      "  </span>\n",
      "</div><div class=\"st-btn st-first\" data-network=\"facebook\" style=\"display: inline-block;\">\n",
      "<img alt=\"facebook sharing button\" src=\"https://platform-cdn.sharethis.com/img/facebook.svg\"/>\n",
      "</div><div class=\"st-btn\" data-network=\"twitter\" style=\"display: inline-block;\">\n",
      "<img alt=\"twitter sharing button\" src=\"https://platform-cdn.sharethis.com/img/twitter.svg\"/>\n",
      "</div><div class=\"st-btn\" data-network=\"messenger\" style=\"display: inline-block;\">\n",
      "<img alt=\"messenger sharing button\" src=\"https://platform-cdn.sharethis.com/img/messenger.svg\"/>\n",
      "</div><div class=\"st-btn\" data-network=\"whatsapp\" style=\"display: inline-block;\">\n",
      "<img alt=\"whatsapp sharing button\" src=\"https://platform-cdn.sharethis.com/img/whatsapp.svg\"/>\n",
      "</div><div class=\"st-btn st-last\" data-network=\"sharethis\" style=\"display: inline-block;\">\n",
      "<img alt=\"sharethis sharing button\" src=\"https://platform-cdn.sharethis.com/img/sharethis.svg\"/>\n",
      "</div></div></div><!--<sifaris for mobile>--><div class=\"left-side new-sifaris col-md-12\"><div class=\"comment-box sifaris-slide-box\"><span class=\"comment-title main-title\">सिफारिस</span><div class=\"sifaris-slider owl-carousel owl-theme owl-responsive-1000 owl-loaded\"><div class=\"owl-stage-outer\"><div class=\"owl-stage\" style=\"transform: translate3d(-563px, 0px, 0px); transition: all; width: 3659.5px;\"><div class=\"owl-item cloned\" style=\"width: 251.5px; margin-right: 30px;\"><div class=\"items media\"><a href=\"https://www.setopati.com/social/338667\" title=\"प्रहरीले जाहेरी लिन नमानेको भन्दै धनुषामा सडक अवरूद्ध गरेर प्रदर्शन\"><figure class=\"mr-3\"><img alt=\"प्रहरीले जाहेरी लिन नमानेको भन्दै धनुषामा सडक अवरूद्ध गरेर प्रदर्शन\" src=\"https://img.setoparty.com/uploads/posts/450X285/dhanusa-pradarsan-1725853823.jpg\"/></figure><span class=\"media-body\"><span class=\"main-title\">प्रहरीले जाहेरी लिन नमानेको भन्दै धनुषामा सडक अवरूद्ध गरेर प्रदर्शन</span></span></a></div></div><div class=\"owl-item cloned\" style=\"width: 251.5px; margin-right: 30px;\"><div class=\"items media\"><a href=\"https://www.setopati.com/art/book/338666\" title=\"पद्मश्री साहित्य पुरस्कार कृष्ण गौतमको ‘अद्वैत’ उपन्यासलाई \"><figure class=\"mr-3\"><img alt=\"पद्मश्री साहित्य पुरस्कार कृष्ण गौतमको ‘अद्वैत’ उपन्यासलाई \" src=\"https://img.setoparty.com/uploads/posts/450X285/adwait-1725853914.jpg\"/></figure><span class=\"media-body\"><span class=\"main-title\">पद्मश्री साहित्य पुरस्कार कृष्ण गौतमको ‘अद्वैत’ उपन्यासलाई </span></span></a></div></div><div class=\"owl-item active\" style=\"width: 251.5px; margin-right: 30px;\"><div class=\"items media\"><a href=\"https://www.setopati.com/politics/338754\" title=\"प्रतिनिधि सभा र राष्ट्रिय सभाको बैठक बस्दै, तीन/तीन कार्यसूची\"><figure class=\"mr-3\"><img alt=\"प्रतिनिधि सभा र राष्ट्रिय सभाको बैठक बस्दै, तीन/तीन कार्यसूची\" src=\"https://img.setoparty.com/uploads/posts/450X285/1534747235samsad13.jpg\"/></figure><span class=\"media-body\"><span class=\"main-title\">प्रतिनिधि सभा र राष्ट्रिय सभाको बैठक बस्दै, तीन/तीन कार्यसूची</span></span></a></div></div><div class=\"owl-item active\" style=\"width: 251.5px; margin-right: 30px;\"><div class=\"items media\"><a href=\"https://www.setopati.com/social/338752\" title=\"नागढुंगा सुरूङमार्ग नजिकैको पहिरो पन्छाइयो, राजमार्ग दुईतर्फी सञ्चालनमा\"><figure class=\"mr-3\"><img alt=\"नागढुंगा सुरूङमार्ग नजिकैको पहिरो पन्छाइयो, राजमार्ग दुईतर्फी सञ्चालनमा\" src=\"https://img.setoparty.com/uploads/posts/450X285/nagdhunga-jam-(1)-1725901643.jpg\"/></figure><span class=\"media-body\"><span class=\"main-title\">नागढुंगा सुरूङमार्ग नजिकैको पहिरो पन्छाइयो, राजमार्ग दुईतर्फी सञ्चालनमा</span></span></a></div></div><div class=\"owl-item\" style=\"width: 251.5px; margin-right: 30px;\"><div class=\"items media\"><a href=\"https://www.setopati.com/global/china/338711\" title=\"पदबाट हटाइएका चिनियाँ विदेश मन्त्रीको घटुवा, खटाइयो प्रकाशन गृहमा\"><figure class=\"mr-3\"><img alt=\"पदबाट हटाइएका चिनियाँ विदेश मन्त्रीको घटुवा, खटाइयो प्रकाशन गृहमा\" src=\"https://img.setoparty.com/uploads/posts/450X285/qin-gang-1725872417.jpeg\"/></figure><span class=\"media-body\"><span class=\"main-title\">पदबाट हटाइएका चिनियाँ विदेश मन्त्रीको घटुवा, खटाइयो प्रकाशन गृहमा</span></span></a></div></div><div class=\"owl-item\" style=\"width: 251.5px; margin-right: 30px;\"><div class=\"items media\"><a href=\"https://www.setopati.com/politics/338708\" title=\"प्रधानमन्त्री र गृहमन्त्रीको पार्टी संगठनको लडाइँका कारण विद्यार्थीले पढ्न पाएनन्: सुमना श्रेष्ठ\"><figure class=\"mr-3\"><img alt=\"प्रधानमन्त्री र गृहमन्त्रीको पार्टी संगठनको लडाइँका कारण विद्यार्थीले पढ्न पाएनन्: सुमना श्रेष्ठ\" src=\"https://img.setoparty.com/uploads/posts/450X285/sumana shrestha1677052239.jpg\"/></figure><span class=\"media-body\"><span class=\"main-title\">प्रधानमन्त्री र गृहमन्त्रीको पार्टी संगठनको लडाइँका कारण विद्यार्थीले पढ्न पाएनन्: सुमना श्रेष्ठ</span></span></a></div></div><div class=\"owl-item\" style=\"width: 251.5px; margin-right: 30px;\"><div class=\"items media\"><a href=\"https://www.setopati.com/politics/338695\" title=\"नदी किनारबाट थप २० मिटर मापदण्डको फैसलामाथि सरकार छिट्टै पुनरवलोकनमा जान्छ: प्रधानमन्त्री\"><figure class=\"mr-3\"><img alt=\"नदी किनारबाट थप २० मिटर मापदण्डको फैसलामाथि सरकार छिट्टै पुनरवलोकनमा जान्छ: प्रधानमन्त्री\" src=\"https://img.setoparty.com/uploads/posts/450X285/WhatsApp-Image-2024-09-09-at-12.34.10-PM-1725867607.jpeg\"/></figure><span class=\"media-body\"><span class=\"main-title\">नदी किनारबाट थप २० मिटर मापदण्डको फैसलामाथि सरकार छिट्टै पुनरवलोकनमा जान्छ: प्रधानमन्त्री</span></span></a></div></div><div class=\"owl-item\" style=\"width: 251.5px; margin-right: 30px;\"><div class=\"items media\"><a href=\"https://www.setopati.com/politics/338677\" title=\"प्रधानसेनापति सिग्देललाई दर्ज्यानी चिह्न प्रदान, आजदेखि कमाण्डमा\"><figure class=\"mr-3\"><img alt=\"प्रधानसेनापति सिग्देललाई दर्ज्यानी चिह्न प्रदान, आजदेखि कमाण्डमा\" src=\"https://img.setoparty.com/uploads/posts/450X285/sigdel-1725858880.jpg\"/></figure><span class=\"media-body\"><span class=\"main-title\">प्रधानसेनापति सिग्देललाई दर्ज्यानी चिह्न प्रदान, आजदेखि कमाण्डमा</span></span></a></div></div><div class=\"owl-item\" style=\"width: 251.5px; margin-right: 30px;\"><div class=\"items media\"><a href=\"https://www.setopati.com/social/338679\" title=\"डाँडाखेत–राहुघाट प्रसारण लाइन आयोजनाः सकिनुपर्ने समयमा आधा काम\"><figure class=\"mr-3\"><img alt=\"डाँडाखेत–राहुघाट प्रसारण लाइन आयोजनाः सकिनुपर्ने समयमा आधा काम\" src=\"https://img.setoparty.com/uploads/posts/450X285/Dadakhet-Rahughat-Substation-1725859326.jpg\"/></figure><span class=\"media-body\"><span class=\"main-title\">डाँडाखेत–राहुघाट प्रसारण लाइन आयोजनाः सकिनुपर्ने समयमा आधा काम</span></span></a></div></div><div class=\"owl-item\" style=\"width: 251.5px; margin-right: 30px;\"><div class=\"items media\"><a href=\"https://www.setopati.com/social/338667\" title=\"प्रहरीले जाहेरी लिन नमानेको भन्दै धनुषामा सडक अवरूद्ध गरेर प्रदर्शन\"><figure class=\"mr-3\"><img alt=\"प्रहरीले जाहेरी लिन नमानेको भन्दै धनुषामा सडक अवरूद्ध गरेर प्रदर्शन\" src=\"https://img.setoparty.com/uploads/posts/450X285/dhanusa-pradarsan-1725853823.jpg\"/></figure><span class=\"media-body\"><span class=\"main-title\">प्रहरीले जाहेरी लिन नमानेको भन्दै धनुषामा सडक अवरूद्ध गरेर प्रदर्शन</span></span></a></div></div><div class=\"owl-item\" style=\"width: 251.5px; margin-right: 30px;\"><div class=\"items media\"><a href=\"https://www.setopati.com/art/book/338666\" title=\"पद्मश्री साहित्य पुरस्कार कृष्ण गौतमको ‘अद्वैत’ उपन्यासलाई \"><figure class=\"mr-3\"><img alt=\"पद्मश्री साहित्य पुरस्कार कृष्ण गौतमको ‘अद्वैत’ उपन्यासलाई \" src=\"https://img.setoparty.com/uploads/posts/450X285/adwait-1725853914.jpg\"/></figure><span class=\"media-body\"><span class=\"main-title\">पद्मश्री साहित्य पुरस्कार कृष्ण गौतमको ‘अद्वैत’ उपन्यासलाई </span></span></a></div></div><div class=\"owl-item cloned\" style=\"width: 251.5px; margin-right: 30px;\"><div class=\"items media\"><a href=\"https://www.setopati.com/politics/338754\" title=\"प्रतिनिधि सभा र राष्ट्रिय सभाको बैठक बस्दै, तीन/तीन कार्यसूची\"><figure class=\"mr-3\"><img alt=\"प्रतिनिधि सभा र राष्ट्रिय सभाको बैठक बस्दै, तीन/तीन कार्यसूची\" src=\"https://img.setoparty.com/uploads/posts/450X285/1534747235samsad13.jpg\"/></figure><span class=\"media-body\"><span class=\"main-title\">प्रतिनिधि सभा र राष्ट्रिय सभाको बैठक बस्दै, तीन/तीन कार्यसूची</span></span></a></div></div><div class=\"owl-item cloned\" style=\"width: 251.5px; margin-right: 30px;\"><div class=\"items media\"><a href=\"https://www.setopati.com/social/338752\" title=\"नागढुंगा सुरूङमार्ग नजिकैको पहिरो पन्छाइयो, राजमार्ग दुईतर्फी सञ्चालनमा\"><figure class=\"mr-3\"><img alt=\"नागढुंगा सुरूङमार्ग नजिकैको पहिरो पन्छाइयो, राजमार्ग दुईतर्फी सञ्चालनमा\" src=\"https://img.setoparty.com/uploads/posts/450X285/nagdhunga-jam-(1)-1725901643.jpg\"/></figure><span class=\"media-body\"><span class=\"main-title\">नागढुंगा सुरूङमार्ग नजिकैको पहिरो पन्छाइयो, राजमार्ग दुईतर्फी सञ्चालनमा</span></span></a></div></div></div></div><div class=\"owl-controls\"><div class=\"owl-nav\"><div class=\"owl-prev\" style=\"display: none;\"><i class=\"fa fa-angle-left\"></i></div><div class=\"owl-next\" style=\"display: none;\"><i class=\"fa fa-angle-right\"></i></div></div><div class=\"owl-dots\" style=\"\"><div class=\"owl-dot active\"><span></span></div><div class=\"owl-dot\"><span></span></div><div class=\"owl-dot\"><span></span></div><div class=\"owl-dot\"><span></span></div><div class=\"owl-dot\"><span></span></div></div></div></div></div></div><!--</sifaris for mobile>--><!--<advertisements>--><!--</advertisements>--></div></div></div><!--</publish date>--><!--<regular footer ad>--><div class=\"row bottom-bigyaapan\"><div class=\"full-bigyaapan col-md-12 desktop-bigyaapan-only\"><a href=\"https://www.ntc.net.np/tariff/ftth-tariff\" title=\"Ntc\"><img alt=\"Ntc\" src=\"https://www.setopati.com/uploads/bigyaapan/51199800.gif\"/></a></div><div class=\"full-bigyaapan col-md-12 mobile-bigyaapan-only\"><a href=\"https://www.ntc.net.np/tariff/ftth-tariff\" title=\"Ntc\"><img alt=\"Ntc\" src=\"https://www.setopati.com/uploads/bigyaapan/52085700.gif\"/></a></div><div class=\"full-bigyaapan col-md-12 desktop-bigyaapan-only\"><a href=\"https://www.vianet.com.np/buy1gift1_2080/?Source=ThirdParty\" title=\"vianet Below Content Banner 2\"><img alt=\"vianet Below Content Banner 2\" src=\"https://www.setopati.com/uploads/bigyaapan/40436200.gif\"/></a></div><div class=\"full-bigyaapan col-md-12 mobile-bigyaapan-only\"><a href=\"https://www.vianet.com.np/buy1gift1_2080/?Source=ThirdParty\" title=\"vianet Below Content Banner 2\"><img alt=\"vianet Below Content Banner 2\" src=\"https://www.setopati.com/uploads/bigyaapan/40674300.gif\"/></a></div><div class=\"full-bigyaapan col-md-12 desktop-bigyaapan-only\"><a href=\"https://www.classic.com.np/\" title=\"classic teach banner 4\"><img alt=\"classic teach banner 4\" src=\"https://www.setopati.com/uploads/bigyaapan/79754400.gif\"/></a></div><div class=\"full-bigyaapan col-md-12 mobile-bigyaapan-only\"><a href=\"https://www.classic.com.np/\" title=\"classic teach banner 4\"><img alt=\"classic teach banner 4\" src=\"https://www.setopati.com/uploads/bigyaapan/79891900.gif\"/></a></div></div><!--</regular footer ad>--><!--<facebook like box>--><div class=\"comment-box col-md-12\"><span class=\"comment-title main-title\">प्रतिक्रिया दिनुहोस्</span><div class=\"fb-comments fb_iframe_widget fb_iframe_widget_fluid_desktop\" data-href=\"https://www.setopati.com/social/338758\" data-numposts=\"50\" data-width=\"100%\" fb-iframe-plugin-query=\"app_id=691077371279161&amp;container_width=704&amp;height=100&amp;href=https%3A%2F%2Fwww.setopati.com%2Fsocial%2F338758&amp;locale=en_US&amp;numposts=50&amp;sdk=joey&amp;version=v14.0&amp;width=\" fb-xfbml-state=\"rendered\" style=\"width: 100%;\"><span style=\"vertical-align: bottom; width: 100%; height: 209px;\"><iframe allow=\"encrypted-media\" allowfullscreen=\"true\" allowtransparency=\"true\" class=\"\" data-testid=\"fb:comments Facebook Social Plugin\" frameborder=\"0\" height=\"100px\" name=\"f47e58c5e23fb0c83\" scrolling=\"no\" src=\"https://www.facebook.com/v14.0/plugins/comments.php?app_id=691077371279161&amp;channel=https%3A%2F%2Fstaticxx.facebook.com%2Fx%2Fconnect%2Fxd_arbiter%2F%3Fversion%3D46%23cb%3Df8ceff05d41e7e7dd%26domain%3Dwww.setopati.com%26is_canvas%3Dfalse%26origin%3Dhttps%253A%252F%252Fwww.setopati.com%252Ff4dbe85a77fe4429e%26relation%3Dparent.parent&amp;container_width=704&amp;height=100&amp;href=https%3A%2F%2Fwww.setopati.com%2Fsocial%2F338758&amp;locale=en_US&amp;numposts=50&amp;sdk=joey&amp;version=v14.0&amp;width=\" style=\"border: none; visibility: visible; width: 100%; height: 209px;\" title=\"fb:comments Facebook Social Plugin\" width=\"1000px\"></iframe></span></div></div><!--</facebook like box>--><div class=\"row bishesh news-cat-list more-news more-related-news\"><div class=\"extra-title col-md-12\"><span class=\"category-item-title\">थप</span><h3 class=\"category-item-sub-title\">समाज</h3></div><!--<news item>--><div class=\"items col-md-4\"><a href=\"https://www.setopati.com/social/338758\" title=\"\"><figure><img alt=\"फाइल तस्बिर।\" src=\"https://img.setoparty.com/uploads/posts/dengi-1722689447.jpg\"/></figure><span class=\"main-title\">भेरी अस्पतालमा जापानिज इन्सेफ्लाइटिसको बिरामी फेला</span></a></div><div class=\"items col-md-4\"><a href=\"https://www.setopati.com/social/338757\" title=\"\"><figure><img alt=\"फाइल तस्बिर।\" src=\"https://img.setoparty.com/uploads/posts/Rock-ankering-(1)-1725935324.jpg\"/></figure><span class=\"main-title\">कालीगण्डकी करिडोर: पहिरो रोकथाम गर्न बैसरी अँधेरीखोलामा ‘रक एंकरिङ’</span></a></div><div class=\"items col-md-4\"><a href=\"https://www.setopati.com/social/338755\" title=\"\"><figure><img alt=\"\" src=\"https://img.setoparty.com/uploads/posts/Melcha-Tamang--(2)-1725934222.jpg\"/></figure><span class=\"main-title\">५ सयभन्दा बढी भेडा च्याङ्ग्रा हेर्ने हिमाली गोठाला</span></a></div><div class=\"items col-md-4\"><a href=\"https://www.setopati.com/social/338753\" title=\"\"><figure><img alt=\"\" src=\"https://img.setoparty.com/uploads/posts/Setopati-1702791931.jpg\"/></figure><span class=\"main-title\">बन्दुकको कुन्दा प्रहार गरी ७१ वर्षीया वृद्धाको हत्या</span></a></div><div class=\"items col-md-4\"><a href=\"https://www.setopati.com/social/338752\" title=\"\"><figure><img alt=\"फाइल तस्बिर।\" src=\"https://img.setoparty.com/uploads/posts/nagdhunga-jam-(1)-1725901643.jpg\"/></figure><span class=\"main-title\">नागढुंगा सुरूङमार्ग नजिकैको पहिरो पन्छाइयो, राजमार्ग दुईतर्फी सञ्चालनमा</span></a></div><div class=\"items col-md-4\"><a href=\"https://www.setopati.com/social/338751\" title=\"\"><figure><img alt=\"फाइल तस्बिर।\" src=\"https://img.setoparty.com/uploads/posts/rain-ktm-1710911468.jpeg\"/></figure><span class=\"main-title\">यी तीन प्रदेशमा आज भारी वर्षा हुने पूर्वानुमान</span></a></div><!--</news item>--></div></aside><!--</left side>--><!--<right side>--><div class=\"right-side innerpages col-sm-4 col-md-3\"><div class=\"items bigyaapan-item first desktop-bigyaapan-only\"><a href=\"http://onelink.to/imepay\" target=\"_blank\" title=\"ime\"><img alt=\"ime\" src=\"https://www.setopati.com/uploads/bigyaapan/80968200.gif\"/></a></div><div class=\"items bigyaapan-item first mobile-bigyaapan-only\"><a href=\"http://onelink.to/imepay\" target=\"_blank\" title=\"ime\"><img alt=\"ime\" src=\"https://www.setopati.com/uploads/bigyaapan/81500600.gif\"/></a></div><div class=\"items bigyaapan-item desktop-bigyaapan-only\"><a href=\"https://bit.ly/3VkF88r\" target=\"_blank\" title=\"Nic asia\"><img alt=\"Nic asia\" src=\"https://www.setopati.com/uploads/bigyaapan/87740100.gif\"/></a></div><div class=\"items bigyaapan-item mobile-bigyaapan-only\"><a href=\"https://bit.ly/3VkF88r\" target=\"_blank\" title=\"Nic asia\"><img alt=\"Nic asia\" src=\"https://www.setopati.com/uploads/bigyaapan/88224300.gif\"/></a></div><div class=\"items bichar bichar-mobile bichar-first\"><a href=\"https://www.setopati.com/opinion\" target=\"_blank\"><h3 class=\"side-category-title\">विचार</h3></a><div class=\"media bichar-item\"><a href=\"https://www.setopati.com/opinion/337847\" title=\"केमा केन्द्रित हुनुपर्छ हाम्रो शिक्षा सुधार?\"><figure><img alt=\"राजन भट्टराई\" class=\"author rounded-circle\" src=\"https://img.setoparty.com/uploads/authors/44898700.jpeg\"/></figure><span class=\"main-title\">केमा केन्द्रित हुनुपर्छ हाम्रो शिक्षा सुधार?</span><span class=\"author-name\">राजन भट्टराई</span></a></div><div class=\"media bichar-item\"><a href=\"https://www.setopati.com/opinion/337762\" title=\"पशुपति कोटीहोममा कृष्ण दमाईको प्रवचनले ल्याएको क्रान्ति\"><figure><img alt=\"डा. मित्र परियार\" class=\"author rounded-circle\" src=\"https://img.setoparty.com/uploads/authors/1591872171mitra.jpeg\"/></figure><span class=\"main-title\">पशुपति कोटीहोममा कृष्ण दमाईको प्रवचनले ल्याएको क्रान्ति</span><span class=\"author-name\">डा. मित्र परियार</span></a></div><div class=\"media bichar-item\"><a href=\"https://www.setopati.com/opinion/337681\" title=\"जलवायुमा जलविद्युतको चिन्ताजनक असर\"><figure><img alt=\"डा. मुकेशराज काफ्ले\" class=\"author rounded-circle\" src=\"https://img.setoparty.com/uploads/authors/5mM3vCTkDbwaOP0TtZCtHNqCXkDXe2K4DNCTiOOh.jpg\"/></figure><span class=\"main-title\">जलवायुमा जलविद्युतको चिन्ताजनक असर</span><span class=\"author-name\">डा. मुकेशराज काफ्ले</span></a></div><div class=\"media bichar-item\"><a href=\"https://www.setopati.com/opinion/337421\" title=\"अहोरात्र खटिरहेका छन् हरिबहादुर र श्याम सुन्दरहरू!\"><figure><img alt=\"मिनेश गुरूङ\" class=\"author rounded-circle\" src=\"https://img.setoparty.com/uploads/authors/40876600.jpg\"/></figure><span class=\"main-title\">अहोरात्र खटिरहेका छन् हरिबहादुर र श्याम सुन्दरहरू!</span><span class=\"author-name\">मिनेश गुरूङ</span></a></div></div><div class=\"items bigyaapan-item first desktop-bigyaapan-only\"><a href=\"https://everestbankltd.com/?lang=ne\" target=\"_blank\" title=\"Everest bank\"><img alt=\"Everest bank\" src=\"https://www.setopati.com/uploads/bigyaapan/55544400.gif\"/></a></div><div class=\"items bigyaapan-item first mobile-bigyaapan-only\"><a href=\"https://everestbankltd.com/?lang=ne\" target=\"_blank\" title=\"Everest bank\"><img alt=\"Everest bank\" src=\"https://www.setopati.com/uploads/bigyaapan/55749100.gif\"/></a></div><div class=\"items bichar bichar-mobile bichar-first\"><a href=\"https://www.setopati.com/blog\" target=\"_blank\"><h3 class=\"side-category-title\">ब्लग</h3></a><div class=\"media bichar-item\"><a href=\"https://www.setopati.com/blog/336829\" title=\"अमेरिकानोले झण्डै ज्यान लिएको!\"><figure><img alt=\"अनिता कोइराला\" class=\"author rounded-circle\" src=\"https://img.setoparty.com/uploads/authors/65785600.jpg\"/></figure><span class=\"main-title\">अमेरिकानोले झण्डै ज्यान लिएको!</span><span class=\"author-name\">अनिता कोइराला</span></a></div><!--<adbox>--><div class=\"media bigyaapan-item desktop-bigyaapan-only\"><a href=\"http://www.nepatop.com.np/\" target=\"_blank\" title=\"side bar 24- nepal top\"><img alt=\"side bar 24- nepal top\" src=\"https://www.setopati.com/uploads/bigyaapan/95150000.gif\"/></a></div><div class=\"media bigyaapan-item mobile-bigyaapan-only\"><a href=\"http://www.nepatop.com.np/\" target=\"_blank\" title=\"side bar 24- nepal top\"><img alt=\"side bar 24- nepal top\" src=\"https://www.setopati.com/uploads/bigyaapan/95349300.gif\"/></a></div><!--</adbox>--><div class=\"media bichar-item\"><a href=\"https://www.setopati.com/blog/336702\" title=\"सरकारी अस्पतालको कन्तविजोग!\"><figure><img alt=\"हरि थापा\" class=\"author rounded-circle\" src=\"https://img.setoparty.com/uploads/authors/1584170237hari_thapa.jpg\"/></figure><span class=\"main-title\">सरकारी अस्पतालको कन्तविजोग!</span><span class=\"author-name\">हरि थापा</span></a></div><div class=\"media bichar-item\"><a href=\"https://www.setopati.com/blog/336895\" title=\"यात्रा संस्मरणः सुर्खेतदेखि फोक्सुण्डोसम्म\"><figure><img alt=\"दिपेन्द्रकेशर खनाल\" class=\"author rounded-circle\" src=\"https://img.setoparty.com/themes/setopati/images/noauthor.png\"/></figure><span class=\"main-title\">यात्रा संस्मरणः सुर्खेतदेखि फोक्सुण्डोसम्म</span><span class=\"author-name\">दिपेन्द्रकेशर खनाल</span></a></div><div class=\"media bichar-item\"><a href=\"https://www.setopati.com/blog/336698\" title=\"भ्रष्टाचार र आँटिला युवा!\"><figure><img alt=\"पवित्रा सुवेदी\" class=\"author rounded-circle\" src=\"https://img.setoparty.com/uploads/authors/OOufYfPSFOuvai3EFEbEuHJGj82ckMTI1fKGCEwW.jpg\"/></figure><span class=\"main-title\">भ्रष्टाचार र आँटिला युवा!</span><span class=\"author-name\">पवित्रा सुवेदी</span></a></div></div><div class=\"items bichar bichar-mobile bichar-first\"><a href=\"https://www.setopati.com/literature\" target=\"_blank\"><h3 class=\"side-category-title\">साहित्यपाटी</h3></a><div class=\"media bichar-item\"><a href=\"https://www.setopati.com/literature/337028\" title=\"मेरो पनि लभ परेको हो कि!\"><figure><img alt=\"सुनिल ढकाल (चिया)\" class=\"author rounded-circle\" src=\"https://www.setopati.com/uploads/posts/Sunil-Dhakal-Chiya-1720074168.jpeg\"/></figure><span class=\"main-title\">मेरो पनि लभ परेको हो कि!</span><span class=\"author-name\">सुनिल ढकाल (चिया)</span></a></div><!--<adbox>--><div class=\"media bigyaapan-item desktop-bigyaapan-only\"><a href=\"https://www.hamropatro.com/news?t=&amp;st=DATE&amp;ss=setopati.com&amp;q=\" target=\"_blank\" title=\"Hamropatro\"><img alt=\"Hamropatro\" src=\"https://www.setopati.com/uploads/bigyaapan/57890000.gif\"/></a></div><div class=\"media bigyaapan-item mobile-bigyaapan-only\"><a href=\"https://www.hamropatro.com/news?t=&amp;st=DATE&amp;ss=setopati.com&amp;q=\" target=\"_blank\" title=\"Hamropatro\"><img alt=\"Hamropatro\" src=\"https://www.setopati.com/uploads/bigyaapan/58234100.gif\"/></a></div><!--</adbox>--><div class=\"media bichar-item\"><a href=\"https://www.setopati.com/literature/336696\" title=\"बिहेपछि सुरू भयो हाम्रो प्रेम!\"><figure><img alt=\"दीपक तिमल्सिना\" class=\"author rounded-circle\" src=\"https://www.setopati.com/uploads/posts/deepak-timalsina-1723637578.jpg\"/></figure><span class=\"main-title\">बिहेपछि सुरू भयो हाम्रो प्रेम!</span><span class=\"author-name\">दीपक तिमल्सिना</span></a></div><!--<adbox>--><div class=\"media bigyaapan-item desktop-bigyaapan-only\"><a href=\"https://shivamcement.com.np/shivamsandesh/role-responsibilities-of-a-mason-while-building-home-shivam-cement\" target=\"_blank\" title=\"side bar 17- shivam\"><img alt=\"side bar 17- shivam\" src=\"https://www.setopati.com/uploads/bigyaapan/64486500.gif\"/></a></div><div class=\"media bigyaapan-item mobile-bigyaapan-only\"><a href=\"https://shivamcement.com.np/shivamsandesh/role-responsibilities-of-a-mason-while-building-home-shivam-cement\" target=\"_blank\" title=\"side bar 17- shivam\"><img alt=\"side bar 17- shivam\" src=\"https://www.setopati.com/uploads/bigyaapan/64624700.gif\"/></a></div><!--</adbox>--><div class=\"media bichar-item\"><a href=\"https://www.setopati.com/literature/336543\" title=\"के उनीहरूको पनि भाषा हुन्छ?\"><figure><img alt=\"अनिता पन्थी\" class=\"author rounded-circle\" src=\"https://img.setoparty.com/themes/setopati/images/noauthor.png\"/></figure><span class=\"main-title\">के उनीहरूको पनि भाषा हुन्छ?</span><span class=\"author-name\">अनिता पन्थी</span></a></div><div class=\"media bichar-item\"><a href=\"https://www.setopati.com/literature/336676\" title=\"मापसेको त्यो दिन जे भयो...\"><figure><img alt=\"उमेश खनाल\" class=\"author rounded-circle\" src=\"https://www.setopati.com/uploads/posts/umesh-1723631874.png\"/></figure><span class=\"main-title\">मापसेको त्यो दिन जे भयो...</span><span class=\"author-name\">उमेश खनाल</span></a></div></div><div class=\"items bichar bichar-mobile bichar-first\"><a href=\"https://www.setopati.com/keta-keti-kura\" target=\"_blank\"><h3 class=\"side-category-title\">केटाकेटीका कुरा</h3></a><div class=\"media bichar-item\"><a href=\"https://www.setopati.com/keta-keti-kura/335060\" title=\"मेरो काठमाडौं यात्रा \"><figure><img alt=\"निष्प्रभ पाण्डे\" class=\"author rounded-circle\" src=\"https://www.setopati.com/uploads/posts/Nisprabh-Pandey-1721814767.jpg\"/></figure><span class=\"main-title\">मेरो काठमाडौं यात्रा </span><span class=\"author-name\">निष्प्रभ पाण्डे</span></a></div><div class=\"media bichar-item\"><a href=\"https://www.setopati.com/keta-keti-kura/334877\" title=\"'जापानमा पनि नेपालकै याद आउँछ'\"><figure><img alt=\"स्यरोन भुर्तेल\" class=\"author rounded-circle\" src=\"https://www.setopati.com/uploads/posts/Sharon-Bhurtel-1721646810.jpg\"/></figure><span class=\"main-title\">'जापानमा पनि नेपालकै याद आउँछ'</span><span class=\"author-name\">स्यरोन भुर्तेल</span></a></div><div class=\"media bichar-item\"><a href=\"https://www.setopati.com/keta-keti-kura/334865\" title=\"मेरो झोलाबाट हराएको फोन\"><figure><img alt=\"करूणा मगर\" class=\"author rounded-circle\" src=\"https://www.setopati.com/uploads/posts/Karuna-1721642152.jpg\"/></figure><span class=\"main-title\">मेरो झोलाबाट हराएको फोन</span><span class=\"author-name\">करूणा मगर</span></a></div><div class=\"media bichar-item\"><a href=\"https://www.setopati.com/keta-keti-kura/334859\" title=\"गोरखामा एक दिन\"><figure><img alt=\"उज्ज्वल ढकाल\" class=\"author rounded-circle\" src=\"https://www.setopati.com/uploads/posts/Ujjwal-Dhakal-1699353658.jpg\"/></figure><span class=\"main-title\">गोरखामा एक दिन</span><span class=\"author-name\">उज्ज्वल ढकाल</span></a></div></div><div class=\"items bichar bichar-mobile bichar-first\"><a href=\"https://www.setopati.com/readers-opinion\" target=\"_blank\"><h3 class=\"side-category-title\">पाठक विचार</h3></a><div class=\"media bichar-item\"><a href=\"https://www.setopati.com/readers-opinion/332551\" title=\"त्रिवि सेवा आयोगलाई एक कर्मचारीको निवेदन- फेल हुन पाऊँ!\"><figure><img alt=\"बिदुर दाहाल\" class=\"author rounded-circle\" src=\"https://www.setopati.com/uploads/posts/Bidur-Dahal-1715599339.jpg\"/></figure><span class=\"main-title\">त्रिवि सेवा आयोगलाई एक कर्मचारीको निवेदन- फेल हुन पाऊँ!</span><span class=\"author-name\">बिदुर दाहाल</span></a></div></div><div class=\"items suchanapati\"><h3 class=\"side-category-title\">सूचनापाटी</h3><!--<items>--><div class=\"media\"><a href=\"https://www.setopati.com/unicode-converter\" title=\"युनिकोडमा टाइप गर्नुहोस्\"><span class=\"mr-3\"><img alt=\"युनिकोडमा टाइप गर्नुहोस्\" class=\"rounded-circle\" src=\"https://www.setopati.com/themes/setopati/images/unicode.png\"/></span><span class=\"media-body\"><span class=\"main-title\">युनिकोडमा टाइप गर्नुहोस्</span></span></a></div><!--</items>--><!--<items>--><div class=\"media\"><a href=\"https://www.setopati.com/forex-rate\" title=\"विनिमय दर\"><span class=\"mr-3\"><img alt=\"विनिमय दर\" class=\"rounded-circle\" src=\"https://www.setopati.com/themes/setopati/images/date-converter.png\"/></span><span class=\"media-body\"><span class=\"main-title\">विनिमय दर</span></span></a></div><!--</items>--><!--<items>--><div class=\"media\"><a href=\"https://www.setopati.com/share-market\" title=\"शेयर बजार\"><span class=\"mr-3\"><img alt=\"शेयर बजार\" class=\"rounded-circle\" src=\"https://www.setopati.com/themes/setopati/images/share-bajar.png\"/></span><span class=\"media-body\"><span class=\"main-title\">शेयर बजार</span></span></a></div><!--</items>--><!--<items>--><div class=\"media\"><a href=\"https://www.setopati.com/bullion\" title=\"सुन चाँदि\"><span class=\"mr-3\"><img alt=\"सुन चाँदि\" class=\"rounded-circle\" src=\"https://www.setopati.com/themes/setopati/images/gold.png\"/></span><span class=\"media-body\"><span class=\"main-title\">सुन चाँदि</span></span></a></div><!--</items>--><!--<items>--><div class=\"media\"><a href=\"https://softnep.com/services/online-radio-streaming/\" target=\"_blank\" title=\"रेडियो सुन्नुहोस्\"><span class=\"mr-3\"><img alt=\"रेडियो सुन्नुहोस्\" class=\"rounded-circle\" src=\"https://www.setopati.com/themes/setopati/images/radio.png\"/></span><span class=\"media-body\"><span class=\"main-title\">रेडियो सुन्नुहोस्</span></span></a></div><!--</items>--></div></div><!--</right side>--></div><!--</middle section>--></div>, <div class=\"container\"><div class=\"row\"><div class=\"full-bigyaapan col-md-12\"><a href=\"https://www.gmotors.com.np/\" target=\"_blank\" title=\"Skywell\"><img alt=\"Skywell\" src=\"https://www.setopati.com/uploads/bigyaapan/96548100.gif\"/></a></div></div></div>, <div class=\"container\"><div class=\"row\"><div class=\"full-bigyaapan col-md-12\"><a href=\"https://www.gmotors.com.np/\" target=\"_blank\" title=\"Skywell\"><img alt=\"Skywell\" src=\"https://www.setopati.com/uploads/bigyaapan/96844200.gif\"/></a></div></div></div>, <div class=\"container\"><div class=\"row\"><div class=\"full-bigyaapan col-md-12\"><a href=\"https://www.globalimebank.com\" target=\"_blank\" title=\"gibl\"><img alt=\"gibl\" src=\"https://www.setopati.com/uploads/bigyaapan/33237600.gif\"/></a></div></div></div>, <div class=\"container\"><div class=\"row\"><div class=\"full-bigyaapan col-md-12\"><a href=\"https://www.globalimebank.com\" target=\"_blank\" title=\"gibl\"><img alt=\"gibl\" src=\"https://www.setopati.com/uploads/bigyaapan/33953700.gif\"/></a></div></div></div>, <div class=\"container\"><div class=\"row\"><div class=\"full-bigyaapan col-md-12\"><a href=\"https://www.globalimebank.com\" target=\"_blank\" title=\"gibl\"><img alt=\"gibl\" src=\"https://www.setopati.com/uploads/bigyaapan/33237600.gif\"/></a></div></div></div>, <div class=\"container\"><div class=\"row\"><div class=\"full-bigyaapan col-md-12\"><a href=\"https://www.globalimebank.com\" target=\"_blank\" title=\"gibl\"><img alt=\"gibl\" src=\"https://www.setopati.com/uploads/bigyaapan/33953700.gif\"/></a></div></div></div>, <div class=\"container\"><div class=\"row\"><div class=\"full-bigyaapan col-md-12\"><a href=\"https://www.thebritishcollege.edu.np/programme?utm_medium=Setopati\" target=\"_blank\" title=\"British\"><img alt=\"British\" src=\"https://www.setopati.com/uploads/bigyaapan/04679200.gif\"/></a></div></div></div>, <div class=\"container\"><div class=\"row\"><div class=\"full-bigyaapan col-md-12\"><a href=\"https://www.thebritishcollege.edu.np/programme?utm_medium=Setopati\" target=\"_blank\" title=\"British\"><img alt=\"British\" src=\"https://www.setopati.com/uploads/bigyaapan/14558800.gif\"/></a></div></div></div>, <div class=\"container\"><div class=\"row\"><div class=\"full-bigyaapan col-md-12\"><a href=\"https://www.thebritishcollege.edu.np/programme?utm_medium=Setopati\" target=\"_blank\" title=\"British\"><img alt=\"British\" src=\"https://www.setopati.com/uploads/bigyaapan/04679200.gif\"/></a></div></div></div>, <div class=\"container\"><div class=\"row\"><div class=\"full-bigyaapan col-md-12\"><a href=\"https://www.thebritishcollege.edu.np/programme?utm_medium=Setopati\" target=\"_blank\" title=\"British\"><img alt=\"British\" src=\"https://www.setopati.com/uploads/bigyaapan/14558800.gif\"/></a></div></div></div>, <div class=\"container\"><div class=\"row\"><div class=\"items col-md-4\"><div class=\"mask-box\"><h1 class=\"media\"><span class=\"footer-item-title\"><span class=\"left-icon fa fa-envelope\"></span>सम्पर्क </span><figure><a href=\"https://www.setopati.com/\" title=\"Setopati\"><img alt=\"Setopati\" src=\"https://www.setopati.com/themes/setopati/images/logo.svg?v=1.9\" style=\"width:100%;\"/></a></figure></h1><span class=\"media\"><span class=\"title-main footer-title\"> Setopati Sanchar Pvt. Ltd. </span><span class=\"reg-no\">सूचना विभाग दर्ता नंः १४१७/०७६-२०७७ </span></span><span class=\"media\"><span class=\"description\"> Jhamsikhel Lalitpur, Nepal <br/> 01-5429319, 01-5428194 setopati@gmail.com </span></span><span class=\"media\"><span class=\"footer-title\">विज्ञापनका लागि</span><span class=\"description\"> 015544598, 9801123339, 9851123339 </span></span></div></div><div class=\"items social-media-feed col-md-4\"><div class=\"mask-box\"><div class=\"row\"><div class=\"items col-md-12\"><span class=\"facebook-box media\"><span class=\"footer-item-title\"><span class=\"left-icon fa fa-share-alt\"></span>सोसल मिडिया </span></span><div class=\"row social-row\"><span class=\"col-md-12 facebook-box twitter-box media\"><span class=\"footer-title\"><a href=\"https://www.facebook.com/setopati/\" target=\"_blank\" title=\"Like us on Facebook\"><span class=\"left-icon facebook fab fa-facebook-f\"></span><span class=\"social-title\">Like us on Facebook</span></a></span></span><span class=\"col-md-12 facebook-box twitter-box media\"><span class=\"footer-title\"><a href=\"https://twitter.com/setopati\" target=\"_blank\" title=\"Follow us on Twiiter\"><span class=\"left-icon twitter fab fa-twitter\"></span><span class=\"social-title\">Follow us on Twitter</span></a></span></span><span class=\"col-md-12 facebook-box youtube-box media\"><span class=\"footer-title\"><a href=\"https://www.youtube.com/user/setopati\" target=\"_blank\" title=\"Subscribe YouTube Channel\"><span class=\"left-icon youtube fab fa-youtube\"></span><span class=\"social-title\">Subscribe YouTube Channel</span></a></span></span><span class=\"col-md-12 facebook-box instagram-box media\"><span class=\"footer-title\"><a href=\"https://www.instagram.com/setopati/?hl=en\" target=\"_blank\" title=\"Follow us on Instagram\"><span class=\"left-icon instagram fab fa-instagram\"></span><span class=\"social-title\">Follow us on Instagram</span></a></span></span><span class=\"col-md-12 facebook-box instagram-box media\"><span class=\"footer-title\"><a href=\"https://www.tiktok.com/@setopati\" target=\"_blank\" title=\"Follow us on Tiktok\"><span class=\"left-icon tiktok fab fa-tiktok\" style=\"background:#000;\"></span><span class=\"social-title\">Follow us on Tiktok</span></a></span></span></div></div></div></div></div><div class=\"items col-md-4\"><div class=\"mask-box media footer-menu\"><div class=\"row\"><div class=\"items col-md-6\"><span class=\"media\"><span class=\"footer-title\">सेतोपाटी </span><ul class=\"footer-nav\"><li><a href=\"https://www.setopati.com\" title=\"गृहपृष्ठ\">गृहपृष्ठ</a></li><li><a href=\"https://www.setopati.com/forex-rate\" title=\"विनिमय दर\">विनिमय दर</a></li><li><a href=\"https://www.setopati.com/share-market\" title=\"शेयर बजार\">शेयर बजार</a></li><li><a href=\"https://www.setopati.com/bullion\" title=\"सुन चाँदि\">सुन चाँदि</a></li><li><a href=\"https://www.setopati.com/pages/about\" title=\"हाम्रोबारे\">हाम्रोबारे</a></li><li><a href=\"https://www.setopati.com/pages/privacy-policy\" title=\"गोपनीयता नीति\">गोपनीयता नीति</a></li></ul></span></div><div class=\"items col-md-6\"><div class=\"items col-md-12\"><span class=\"media\"><span class=\"footer-title\">प्रधान सम्पादक</span><ul class=\"footer-nav\"><li>अमित ढकाल</li></ul></span></div><div class=\"items col-md-12\"><span class=\"media\"><span class=\"footer-title\">सेतोपाटी टीम</span><ul class=\"footer-nav\"><li><a href=\"https://www.setopati.com/our-team\" title=\"सेतोपाटी टीम\">हाम्रो टीम</a></li></ul></span></div></div></div></div></div></div></div>, <div class=\"container\"><span class=\"row copyright\"><span class=\"company-info company col-md-6\"> © 2024 Setopati Sanchar Pvt. Ltd. All rights reserved. </span><span class=\"company col-sm-12 col-md-6 text-right\"> Site by: <a href=\"https://www.setopati.com/pages/about-website-designer\" target=\"_blank\" title=\"SoftNEP\">SoftNEP</a></span></span></div>]\n"
     ]
    }
   ],
   "source": [
    "print(information)"
   ]
  },
  {
   "cell_type": "code",
   "execution_count": null,
   "metadata": {},
   "outputs": [],
   "source": []
  },
  {
   "cell_type": "code",
   "execution_count": null,
   "metadata": {},
   "outputs": [],
   "source": []
  }
 ],
 "metadata": {
  "kernelspec": {
   "display_name": "venv",
   "language": "python",
   "name": "python3"
  },
  "language_info": {
   "codemirror_mode": {
    "name": "ipython",
    "version": 3
   },
   "file_extension": ".py",
   "mimetype": "text/x-python",
   "name": "python",
   "nbconvert_exporter": "python",
   "pygments_lexer": "ipython3",
   "version": "3.11.1"
  }
 },
 "nbformat": 4,
 "nbformat_minor": 2
}
